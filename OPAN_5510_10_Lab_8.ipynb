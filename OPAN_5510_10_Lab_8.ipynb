{
  "cells": [
    {
      "cell_type": "markdown",
      "metadata": {
        "id": "dk522NdK5wjP"
      },
      "source": [
        "# Diamond Company Analytics Challenge\n",
        "\n",
        "**Time:** 35 minutes\n",
        "\n",
        "**Scenario:** You are the new data analyst at a prestigious diamond company. The CEO has called an urgent meeting and needs answers to critical business questions about the inventory.\n",
        "\n",
        "**Your Mission:** Analyze the diamond inventory data and provide insights to guide strategic decisions."
      ]
    },
    {
      "cell_type": "code",
      "execution_count": null,
      "metadata": {
        "id": "EsH-Wn8R5wjS",
        "colab": {
          "base_uri": "https://localhost:8080/"
        },
        "outputId": "9aae337f-d2fd-4e4d-e3e4-8e4eb71c1483"
      },
      "outputs": [
        {
          "output_type": "stream",
          "name": "stdout",
          "text": [
            "Loading diamonds dataset...\n",
            "Dataset loaded successfully!\n"
          ]
        }
      ],
      "source": [
        "import polars as pl\n",
        "\n",
        "# Load the diamonds dataset\n",
        "print(\"Loading diamonds dataset...\")\n",
        "df = pl.read_csv('https://raw.githubusercontent.com/pycaret/pycaret/master/datasets/diamond.csv')\n",
        "print(\"Dataset loaded successfully!\")"
      ]
    },
    {
      "cell_type": "markdown",
      "metadata": {
        "id": "3_R8tSyw5wjT"
      },
      "source": [
        "## Section 1: Initial Inventory Assessment (5 minutes)\n",
        "\n",
        "The CEO walks in: \"Before we dive into specifics, I need to understand what we're working with. Give me the basics about our inventory database.\""
      ]
    },
    {
      "cell_type": "markdown",
      "metadata": {
        "id": "Cn1ZqYvk5wjU"
      },
      "source": [
        "### Question 1: \"How extensive is our inventory database?\"\n",
        "\n",
        "The CEO needs to know the scale of data you're analyzing."
      ]
    },
    {
      "cell_type": "code",
      "execution_count": null,
      "metadata": {
        "id": "NPcaNUH65wjU",
        "colab": {
          "base_uri": "https://localhost:8080/"
        },
        "outputId": "ebb91866-a46e-4957-f9c5-66021fcc05af"
      },
      "outputs": [
        {
          "output_type": "stream",
          "name": "stdout",
          "text": [
            "The dataset has 6000 rows and 8 columns.\n"
          ]
        }
      ],
      "source": [
        "# Your code here:\n",
        "print(f\"The dataset has {df.shape[0]} rows and {df.shape[1]} columns.\")"
      ]
    },
    {
      "cell_type": "markdown",
      "metadata": {
        "id": "yXryaVuE5wjV"
      },
      "source": [
        "### Question 2: \"What information do we track about each diamond?\"\n",
        "\n",
        "List all the characteristics we record."
      ]
    },
    {
      "cell_type": "code",
      "execution_count": null,
      "metadata": {
        "id": "y5D9IHGA5wjW",
        "colab": {
          "base_uri": "https://localhost:8080/"
        },
        "outputId": "83534fd1-a597-4a7a-c703-0023e2061989"
      },
      "outputs": [
        {
          "output_type": "stream",
          "name": "stdout",
          "text": [
            "Diamond Characteristics Recorded:\n",
            "['Carat Weight', 'Cut', 'Color', 'Clarity', 'Polish', 'Symmetry', 'Report', 'Price']\n"
          ]
        }
      ],
      "source": [
        "# Your code here:\n",
        "print(\"Diamond Characteristics Recorded:\")\n",
        "print(df.columns)"
      ]
    },
    {
      "cell_type": "markdown",
      "metadata": {
        "id": "z_sumoSX5wjW"
      },
      "source": [
        "### Question 3: \"When I look at one line in this database, what am I looking at?\"\n",
        "\n",
        "Explain in business terms:"
      ]
    },
    {
      "cell_type": "markdown",
      "metadata": {
        "id": "hRHvzjy95wjX"
      },
      "source": [
        "**Your answer:** Each row represents: a specific diamond, including its characteristics."
      ]
    },
    {
      "cell_type": "markdown",
      "metadata": {
        "id": "dEp8YWYF5wjX"
      },
      "source": [
        "## Section 2: Strategic Business Questions (20 minutes)\n",
        "\n",
        "The CEO continues: \"Now let's get to the important questions. Our board meeting is tomorrow and I need concrete numbers.\""
      ]
    },
    {
      "cell_type": "markdown",
      "metadata": {
        "id": "z_o4Hb7P5wjY"
      },
      "source": [
        "### Question 4: \"We're considering expanding our storage facilities. How many total carats do we have in inventory? I need to know if our vaults can handle the weight.\"\n",
        "\n",
        "Think about what measurement would help answer this."
      ]
    },
    {
      "cell_type": "code",
      "execution_count": null,
      "metadata": {
        "id": "SdEoWoQ35wjY",
        "colab": {
          "base_uri": "https://localhost:8080/"
        },
        "outputId": "49d010ec-7bce-4f38-acfc-010c3a4d2081"
      },
      "outputs": [
        {
          "output_type": "stream",
          "name": "stdout",
          "text": [
            "The total number of carats in inventory is 8007.12.\n"
          ]
        }
      ],
      "source": [
        "# Your code here:\n",
        "total_carats = df['Carat Weight'].sum()\n",
        "print(f\"The total number of carats in inventory is {total_carats:.2f}.\")"
      ]
    },
    {
      "cell_type": "markdown",
      "metadata": {
        "id": "5_9NeYuP5wjZ"
      },
      "source": [
        "### Question 5: \"Our new marketing campaign claims we have 'the widest variety of cuts in the industry.' Can you verify this?\"\n",
        "\n",
        "The CEO wants to know about variety, not quantity."
      ]
    },
    {
      "cell_type": "code",
      "execution_count": null,
      "metadata": {
        "id": "kHHRF1k65wjZ",
        "colab": {
          "base_uri": "https://localhost:8080/"
        },
        "outputId": "efb38a90-c1b1-4446-8aa0-9a4fd75b45c3"
      },
      "outputs": [
        {
          "output_type": "stream",
          "name": "stdout",
          "text": [
            "The number of unique diamond cuts is 5.\n"
          ]
        }
      ],
      "source": [
        "# Your code here:\n",
        "unique_cuts = df[\"Cut\"].n_unique()\n",
        "print(f\"The number of unique diamond cuts is {unique_cuts}.\")"
      ]
    },
    {
      "cell_type": "markdown",
      "metadata": {
        "id": "uUd4FGtt5wja"
      },
      "source": [
        "### Question 6: \"I'm meeting with our insurance company. They need to know our price exposure - what's our most and least valuable diamond?\""
      ]
    },
    {
      "cell_type": "code",
      "execution_count": null,
      "metadata": {
        "id": "pHwh7fQE5wja",
        "colab": {
          "base_uri": "https://localhost:8080/"
        },
        "outputId": "dbbcff1a-fa0d-4d39-c2f7-da88186f8437"
      },
      "outputs": [
        {
          "output_type": "stream",
          "name": "stdout",
          "text": [
            "The most valuable diamond is: $101,561.00\n",
            "The least valuable diamond is: $2,184.00\n"
          ]
        }
      ],
      "source": [
        "# Your code here:\n",
        "most_valuable_diamond = df.select(pl.col(\"Price\").max()).item()\n",
        "print(f\"The most valuable diamond is: ${most_valuable_diamond:,.2f}\")\n",
        "\n",
        "least_valuable_diamond = df.select(pl.col(\"Price\").min()).item()\n",
        "print(f\"The least valuable diamond is: ${least_valuable_diamond:,.2f}\")"
      ]
    },
    {
      "cell_type": "markdown",
      "metadata": {
        "id": "1Lh9pzRi5wja"
      },
      "source": [
        "### Question 7: \"Which color grades should we focus on in our premium line? I need typical prices across our color spectrum.\"\n",
        "\n",
        "The CEO wants to understand pricing patterns."
      ]
    },
    {
      "cell_type": "code",
      "execution_count": null,
      "metadata": {
        "id": "eKAxUZpo5wjb",
        "colab": {
          "base_uri": "https://localhost:8080/",
          "height": 300
        },
        "outputId": "a6855b62-d47b-4959-8e40-8764779d3563"
      },
      "outputs": [
        {
          "output_type": "stream",
          "name": "stdout",
          "text": [
            "Typical Prices Across Color Spectrum (from most to least expensive):\n"
          ]
        },
        {
          "output_type": "display_data",
          "data": {
            "text/plain": [
              "shape: (6, 2)\n",
              "┌───────┬───────────────┐\n",
              "│ Color ┆ Average Price │\n",
              "│ ---   ┆ ---           │\n",
              "│ str   ┆ f64           │\n",
              "╞═══════╪═══════════════╡\n",
              "│ D     ┆ 15255.783661  │\n",
              "│ F     ┆ 12712.241856  │\n",
              "│ G     ┆ 12520.050633  │\n",
              "│ E     ┆ 11539.190231  │\n",
              "│ H     ┆ 10487.347544  │\n",
              "│ I     ┆ 8989.636364   │\n",
              "└───────┴───────────────┘"
            ],
            "text/html": [
              "<div><style>\n",
              ".dataframe > thead > tr,\n",
              ".dataframe > tbody > tr {\n",
              "  text-align: right;\n",
              "  white-space: pre-wrap;\n",
              "}\n",
              "</style>\n",
              "<small>shape: (6, 2)</small><table border=\"1\" class=\"dataframe\"><thead><tr><th>Color</th><th>Average Price</th></tr><tr><td>str</td><td>f64</td></tr></thead><tbody><tr><td>&quot;D&quot;</td><td>15255.783661</td></tr><tr><td>&quot;F&quot;</td><td>12712.241856</td></tr><tr><td>&quot;G&quot;</td><td>12520.050633</td></tr><tr><td>&quot;E&quot;</td><td>11539.190231</td></tr><tr><td>&quot;H&quot;</td><td>10487.347544</td></tr><tr><td>&quot;I&quot;</td><td>8989.636364</td></tr></tbody></table></div>"
            ]
          },
          "metadata": {}
        }
      ],
      "source": [
        "# Your code here:\n",
        "price_counts = df.group_by(pl.col(\"Color\")).agg(pl.col(\"Price\").mean().alias(\"Average Price\")).sort(\"Average Price\", descending=True)\n",
        "print(\"Typical Prices Across Color Spectrum (from most to least expensive):\")\n",
        "display(price_counts)"
      ]
    },
    {
      "cell_type": "markdown",
      "metadata": {
        "id": "5ZhmwaDM5wjb"
      },
      "source": [
        "**Reflection:** After analyzing by color, how has your view of the data changed? What does each row in your result represent now?"
      ]
    },
    {
      "cell_type": "markdown",
      "metadata": {
        "id": "ozpZTDNm5wjc"
      },
      "source": [
        "**Your answer:** New grain = represents the color grades"
      ]
    },
    {
      "cell_type": "markdown",
      "metadata": {
        "id": "54trU_bm5wjc"
      },
      "source": [
        "## Section 3: Advanced Strategic Analysis (10 minutes)\n",
        "\n",
        "The CEO leans forward: \"These next questions will shape our strategy for next year.\""
      ]
    },
    {
      "cell_type": "markdown",
      "metadata": {
        "id": "-ayRkas95wjc"
      },
      "source": [
        "### Question 8: \"We're thinking of specializing in certain clarity grades. For our investor deck, I need a complete breakdown showing: how many diamonds we have in each clarity grade, their typical price, and the total carats we're holding for each grade.\""
      ]
    },
    {
      "cell_type": "code",
      "execution_count": null,
      "metadata": {
        "id": "QUBO2eGO5wjc",
        "colab": {
          "base_uri": "https://localhost:8080/"
        },
        "outputId": "457abc76-b307-4880-c5aa-e9df13d5312d"
      },
      "outputs": [
        {
          "output_type": "stream",
          "name": "stdout",
          "text": [
            "shape: (7, 4)\n",
            "┌─────────┬───────────────┬───────────────┬──────────────┐\n",
            "│ Clarity ┆ diamond_count ┆ average_price ┆ total_carats │\n",
            "│ ---     ┆ ---           ┆ ---           ┆ ---          │\n",
            "│ str     ┆ u32           ┆ f64           ┆ f64          │\n",
            "╞═════════╪═══════════════╪═══════════════╪══════════════╡\n",
            "│ FL      ┆ 4             ┆ 63776.0       ┆ 7.87         │\n",
            "│ IF      ┆ 219           ┆ 22105.84      ┆ 316.0        │\n",
            "│ VVS1    ┆ 285           ┆ 16845.68      ┆ 389.43       │\n",
            "│ VVS2    ┆ 666           ┆ 14142.18      ┆ 876.58       │\n",
            "│ VS1     ┆ 1192          ┆ 13694.11      ┆ 1682.74      │\n",
            "│ VS2     ┆ 1575          ┆ 11809.05      ┆ 2170.81      │\n",
            "│ SI1     ┆ 2059          ┆ 8018.86       ┆ 2563.69      │\n",
            "└─────────┴───────────────┴───────────────┴──────────────┘\n"
          ]
        }
      ],
      "source": [
        "# Your code here:\n",
        "clarity_breakdown = (\n",
        "    df.group_by('Clarity')\n",
        "      .agg([\n",
        "          pl.len().alias(\"diamond_count\"),\n",
        "          pl.col(\"Price\").mean().round(2).alias(\"average_price\"),\n",
        "          pl.col(\"Carat Weight\").sum().round(2).alias(\"total_carats\")\n",
        "      ])\n",
        "      .sort(\"average_price\", descending=True))\n",
        "\n",
        "print(clarity_breakdown)"
      ]
    },
    {
      "cell_type": "markdown",
      "metadata": {
        "id": "0gGYT_gm5wjd"
      },
      "source": [
        "### Question 9: \"My luxury competitor claims they have the best prices for every cut-color combination. Show me our pricing structure across these combinations - I want to see where we're competitive.\""
      ]
    },
    {
      "cell_type": "code",
      "execution_count": null,
      "metadata": {
        "id": "DdmVJTAO5wjd",
        "colab": {
          "base_uri": "https://localhost:8080/"
        },
        "outputId": "675fa7b3-9058-44a4-92d0-37c3bc832dd1"
      },
      "outputs": [
        {
          "output_type": "stream",
          "name": "stdout",
          "text": [
            "shape: (30, 3)\n",
            "┌───────────┬───────┬───────────────┐\n",
            "│ Cut       ┆ Color ┆ average_price │\n",
            "│ ---       ┆ ---   ┆ ---           │\n",
            "│ str       ┆ str   ┆ f64           │\n",
            "╞═══════════╪═══════╪═══════════════╡\n",
            "│ Fair      ┆ D     ┆ 6058.25       │\n",
            "│ Fair      ┆ E     ┆ 5370.63       │\n",
            "│ Fair      ┆ F     ┆ 6063.63       │\n",
            "│ Fair      ┆ G     ┆ 7345.52       │\n",
            "│ Fair      ┆ H     ┆ 5908.5        │\n",
            "│ …         ┆ …     ┆ …             │\n",
            "│ Very Good ┆ E     ┆ 12101.91      │\n",
            "│ Very Good ┆ F     ┆ 12413.91      │\n",
            "│ Very Good ┆ G     ┆ 12354.01      │\n",
            "│ Very Good ┆ H     ┆ 10056.11      │\n",
            "│ Very Good ┆ I     ┆ 8930.03       │\n",
            "└───────────┴───────┴───────────────┘\n"
          ]
        }
      ],
      "source": [
        "# Your code here:\n",
        "pricing_structure = (\n",
        "    df.group_by(['Cut', 'Color'])\n",
        "      .agg(pl.col('Price').mean().round(2).alias('average_price'))\n",
        "      .sort(['Cut', 'Color']))\n",
        "\n",
        "print(pricing_structure)"
      ]
    },
    {
      "cell_type": "markdown",
      "metadata": {
        "id": "h35g7Qvd5wje"
      },
      "source": [
        "**Reflection:** How specific is your analysis now? What level of detail does each row represent?"
      ]
    },
    {
      "cell_type": "markdown",
      "metadata": {
        "id": "uTOQZeKm5wjf"
      },
      "source": [
        "**Your answer:** New grain = a specific cut-color combination"
      ]
    },
    {
      "cell_type": "markdown",
      "metadata": {
        "id": "88zGTbPa5wjf"
      },
      "source": [
        "### Question 10: URGENT - \"Our biggest client is interested in purchasing entire inventory segments. They asked: 'Which color-cut combinations represent your highest total inventory value?' Show me the top 5 most valuable inventory segments by total worth, and include how many diamonds are in each segment.\"\n",
        "\n",
        "This is critical for tomorrow's negotiation."
      ]
    },
    {
      "cell_type": "code",
      "execution_count": null,
      "metadata": {
        "id": "0Fhqf6J15wjg",
        "colab": {
          "base_uri": "https://localhost:8080/"
        },
        "outputId": "08dcc3c6-2b5e-4c38-d2bd-94196e2eae2d"
      },
      "outputs": [
        {
          "output_type": "stream",
          "name": "stdout",
          "text": [
            "shape: (5, 4)\n",
            "┌───────┬───────────┬───────────────┬───────────────────────┐\n",
            "│ Color ┆ Cut       ┆ diamond_count ┆ total_inventory_value │\n",
            "│ ---   ┆ ---       ┆ ---           ┆ ---                   │\n",
            "│ str   ┆ str       ┆ u32           ┆ i64                   │\n",
            "╞═══════╪═══════════╪═══════════════╪═══════════════════════╡\n",
            "│ G     ┆ Ideal     ┆ 690           ┆ 9363514               │\n",
            "│ G     ┆ Very Good ┆ 578           ┆ 7140620               │\n",
            "│ F     ┆ Very Good ┆ 455           ┆ 5648327               │\n",
            "│ F     ┆ Ideal     ┆ 363           ┆ 5346782               │\n",
            "│ H     ┆ Ideal     ┆ 458           ┆ 5279687               │\n",
            "└───────┴───────────┴───────────────┴───────────────────────┘\n"
          ]
        }
      ],
      "source": [
        "# Your code here:\n",
        "inventory_segments = (\n",
        "    df.group_by(['Color', 'Cut'])\n",
        "      .agg([\n",
        "          pl.len().alias('diamond_count'),\n",
        "          (pl.col('Price')).sum().alias('total_inventory_value')\n",
        "      ])\n",
        "      .sort('total_inventory_value', descending=True)\n",
        "      .head(5))\n",
        "\n",
        "print(inventory_segments)"
      ]
    },
    {
      "cell_type": "markdown",
      "metadata": {
        "id": "bIDxKgjx5wjh"
      },
      "source": [
        "## Debrief\n",
        "\n",
        "Congratulations! You've just completed your first day as the diamond company's data analyst.\n",
        "\n",
        "Remember:\n",
        "- CEOs speak in business language, not technical terms\n",
        "- Always understand what each row represents before analyzing\n",
        "- Business questions contain clues about which operations to use"
      ]
    }
  ],
  "metadata": {
    "kernelspec": {
      "display_name": "Python 3",
      "language": "python",
      "name": "python3"
    },
    "language_info": {
      "codemirror_mode": {
        "name": "ipython",
        "version": 3
      },
      "file_extension": ".py",
      "mimetype": "text/x-python",
      "name": "python",
      "nbconvert_exporter": "python",
      "pygments_lexer": "ipython3",
      "version": "3.12.0"
    },
    "colab": {
      "provenance": []
    }
  },
  "nbformat": 4,
  "nbformat_minor": 0
}